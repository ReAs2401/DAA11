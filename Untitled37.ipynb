{
 "cells": [
  {
   "cell_type": "code",
   "execution_count": 1,
   "id": "56716308-b306-4395-835e-e340f406137f",
   "metadata": {},
   "outputs": [],
   "source": [
    "# a-----b\n",
    "# /     /\n",
    "# /     /\n",
    "# c-----d-----e"
   ]
  },
  {
   "cell_type": "code",
   "execution_count": 2,
   "id": "e7ace160-468b-4013-a7b7-fdb63901b067",
   "metadata": {},
   "outputs": [
    {
     "name": "stdout",
     "output_type": "stream",
     "text": [
      "{'a': ['b', 'c'], 'b': ['a', 'd'], 'c': ['a', 'd'], 'd': ['e'], 'e': ['d']}\n"
     ]
    }
   ],
   "source": [
    "# Create the ductionary with graph elements\n",
    "graph = { \"a\" : [\"b\",\"c\"], \"b\" : [\"a\",\"d\"], \"c\" : [\"a\",\"d\"], \"d\" : [\"e\"], \"e\" : [\"d\"]}\n",
    "# Print the graph \n",
    "print(graph)"
   ]
  },
  {
   "cell_type": "code",
   "execution_count": 5,
   "id": "9922d401-6649-49af-a844-00307766e664",
   "metadata": {},
   "outputs": [
    {
     "name": "stdout",
     "output_type": "stream",
     "text": [
      "{'t': ['u', 'w'], 'u': ['t', 'v'], 'v': ['u', 'x'], 'w': ['t', 'x', 'z'], 'x': ['v', 'w', 's'], 'z': ['w'], 's': ['x']}\n"
     ]
    }
   ],
   "source": [
    "graph1 = { \"t\" : [\"u\",\"w\"], \"u\" : [\"t\",\"v\"], \"v\" : [\"u\",\"x\"], \"w\" : [\"t\", \"x\",\"z\"], \"x\" : [\"v\",\"w\",\"s\"], \"z\" : [\"w\"], \"s\" : [\"x\"]}\n",
    "print(graph1)"
   ]
  },
  {
   "cell_type": "code",
   "execution_count": 6,
   "id": "dbb46afd-b91a-4b5d-808c-2dffb13cd176",
   "metadata": {},
   "outputs": [
    {
     "name": "stdout",
     "output_type": "stream",
     "text": [
      "{'r': ['o', 'l'], 'o': ['r', 'p', 'm'], 'm': ['o', 'n'], 'l': ['r', 'p'], 'p': ['l', 'o', 'n'], 'n': ['p', 'm']}\n"
     ]
    }
   ],
   "source": [
    "raph1 = { \"r\" : [\"o\",\"l\"], \"o\" : [\"r\",\"p\",\"m\"], \"m\" : [\"o\",\"n\"], \"l\" : [\"r\", \"p\"], \"p\" : [\"l\",\"o\",\"n\"], \"n\" : [\"p\",\"m\"]}\n",
    "print(raph1)"
   ]
  },
  {
   "cell_type": "code",
   "execution_count": 7,
   "id": "0875cd8c-edc7-4786-9aa2-43bfb4cc2e78",
   "metadata": {},
   "outputs": [
    {
     "name": "stdout",
     "output_type": "stream",
     "text": [
      "['a', 'b', 'c', 'd', 'e']\n"
     ]
    }
   ],
   "source": [
    "class graph:\n",
    "    def __init__(self,gdict=None):\n",
    "        if gdict is None:\n",
    "            gdict = []\n",
    "        self.gdict = gdict\n",
    "# Get the keys of the dictionary\n",
    "    def getVertices(self):\n",
    "        return list(self.gdict.keys())\n",
    "# Create the dictionary with graph elements\n",
    "graph_elements = { \"a\" : [\"b\",\"c\"], \"b\" : [\"a\",\"d\"], \"c\" : [\"a\",\"d\"], \"d\" : [\"e\"], \"e\" : [\"d\"]} \n",
    "g = graph(graph_elements)\n",
    "print(g.getVertices())"
   ]
  },
  {
   "cell_type": "code",
   "execution_count": 8,
   "id": "18f4a871-f9db-468b-8cbf-6826547cc5a0",
   "metadata": {},
   "outputs": [
    {
     "name": "stdout",
     "output_type": "stream",
     "text": [
      "['t', 'u', 'v', 'w', 'x', 'z', 's']\n"
     ]
    }
   ],
   "source": [
    "class graph:\n",
    "    def __init__(self,gdict=None):\n",
    "        if gdict is None:\n",
    "            gdict = []\n",
    "        self.gdict = gdict\n",
    "\n",
    "    def getVertices(self):\n",
    "        return list(self.gdict.keys())\n",
    "graph_elements = { \"t\" : [\"u\",\"w\"], \"u\" : [\"t\",\"v\"], \"v\" : [\"u\",\"x\"], \"w\" : [\"t\", \"x\",\"z\"], \"x\" : [\"v\",\"w\",\"s\"], \"z\" : [\"w\"], \"s\" : [\"x\"]}\n",
    "g = graph(graph_elements)\n",
    "print(g.getVertices())"
   ]
  },
  {
   "cell_type": "code",
   "execution_count": 9,
   "id": "7cb5bb71-f42d-446a-a746-996b20d67d53",
   "metadata": {},
   "outputs": [
    {
     "name": "stdout",
     "output_type": "stream",
     "text": [
      "['r', 'o', 'm', 'l', 'p', 'n']\n"
     ]
    }
   ],
   "source": [
    "class graph:\n",
    "    def __init__(self,gdict=None):\n",
    "        if gdict is None:\n",
    "            gdict = []\n",
    "        self.gdict = gdict\n",
    "\n",
    "    def getVertices(self):\n",
    "        return list(self.gdict.keys())\n",
    "graph_elements =  { \"r\" : [\"o\",\"l\"], \"o\" : [\"r\",\"p\",\"m\"], \"m\" : [\"o\",\"n\"], \"l\" : [\"r\", \"p\"], \"p\" : [\"l\",\"o\",\"n\"], \"n\" : [\"p\",\"m\"]}\n",
    "g = graph(graph_elements)\n",
    "print(g.getVertices())"
   ]
  },
  {
   "cell_type": "code",
   "execution_count": 11,
   "id": "1626242a-90bd-435a-ad1c-402fb7e37681",
   "metadata": {},
   "outputs": [
    {
     "name": "stdout",
     "output_type": "stream",
     "text": [
      "[{'a', 'b'}, {'a', 'c'}, {'d', 'b'}, {'c', 'd'}, {'e', 'd'}]\n"
     ]
    }
   ],
   "source": [
    "class graph:\n",
    "    def __init__(self,gdict=None):\n",
    "        if gdict is None:\n",
    "            gdict = {}\n",
    "        self.gdict = gdict\n",
    "    def edges(self):\n",
    "        return self.findedges()\n",
    "# Find the distinct list of adges\n",
    "    def findedges(self):\n",
    "        edgename = []\n",
    "        for vrtx in self.gdict:\n",
    "            for nxtvrtx, in self.gdict[vrtx]:\n",
    "                if {nxtvrtx, vrtx} not in edgename:\n",
    "                    edgename.append({vrtx, nxtvrtx})\n",
    "        return edgename\n",
    "# Create the dictionary with graph elements\n",
    "graph_elements = { \"a\" : [\"b\",\"c\"], \"b\" : [\"a\",\"d\"], \"c\" : [\"a\",\"d\"], \"d\" : [\"e\"], \"e\" : [\"d\"]} \n",
    "g = graph(graph_elements)\n",
    "print(g.edges())"
   ]
  },
  {
   "cell_type": "code",
   "execution_count": 12,
   "id": "06d28f00-2632-46a2-bf39-6a4cb63a438b",
   "metadata": {},
   "outputs": [
    {
     "name": "stdout",
     "output_type": "stream",
     "text": [
      "[{'u', 't'}, {'t', 'w'}, {'u', 'v'}, {'v', 'x'}, {'x', 'w'}, {'z', 'w'}, {'s', 'x'}]\n"
     ]
    }
   ],
   "source": [
    "class graph:\n",
    "    def __init__(self,gdict=None):\n",
    "        if gdict is None:\n",
    "            gdict = {}\n",
    "        self.gdict = gdict\n",
    "    def edges(self):\n",
    "        return self.findedges()\n",
    "\n",
    "    def findedges(self):\n",
    "        edgename = []\n",
    "        for vrtx in self.gdict:\n",
    "            for nxtvrtx, in self.gdict[vrtx]:\n",
    "                if {nxtvrtx, vrtx} not in edgename:\n",
    "                    edgename.append({vrtx, nxtvrtx})\n",
    "        return edgename\n",
    "\n",
    "graph_elements = { \"t\" : [\"u\",\"w\"], \"u\" : [\"t\",\"v\"], \"v\" : [\"u\",\"x\"], \"w\" : [\"t\", \"x\",\"z\"], \"x\" : [\"v\",\"w\",\"s\"], \"z\" : [\"w\"], \"s\" : [\"x\"]}\n",
    "g = graph(graph_elements)\n",
    "print(g.edges())"
   ]
  },
  {
   "cell_type": "code",
   "execution_count": 13,
   "id": "1e8861c7-4bbe-469b-90df-14dbbcef18bb",
   "metadata": {},
   "outputs": [
    {
     "name": "stdout",
     "output_type": "stream",
     "text": [
      "[{'r', 'o'}, {'r', 'l'}, {'o', 'p'}, {'o', 'm'}, {'m', 'n'}, {'l', 'p'}, {'n', 'p'}]\n"
     ]
    }
   ],
   "source": [
    "class graph:\n",
    "    def __init__(self,gdict=None):\n",
    "        if gdict is None:\n",
    "            gdict = {}\n",
    "        self.gdict = gdict\n",
    "    def edges(self):\n",
    "        return self.findedges()\n",
    "\n",
    "    def findedges(self):\n",
    "        edgename = []\n",
    "        for vrtx in self.gdict:\n",
    "            for nxtvrtx, in self.gdict[vrtx]:\n",
    "                if {nxtvrtx, vrtx} not in edgename:\n",
    "                    edgename.append({vrtx, nxtvrtx})\n",
    "        return edgename\n",
    "\n",
    "graph_elements = { \"r\" : [\"o\",\"l\"], \"o\" : [\"r\",\"p\",\"m\"], \"m\" : [\"o\",\"n\"], \"l\" : [\"r\", \"p\"], \"p\" : [\"l\",\"o\",\"n\"], \"n\" : [\"p\",\"m\"]}\n",
    "g = graph(graph_elements)\n",
    "print(g.edges())"
   ]
  },
  {
   "cell_type": "code",
   "execution_count": 14,
   "id": "c6eea3e2-5a96-48df-bb89-ea4a51671b2a",
   "metadata": {},
   "outputs": [
    {
     "name": "stdout",
     "output_type": "stream",
     "text": [
      "['a', 'b', 'c', 'd', 'e', 'f']\n"
     ]
    }
   ],
   "source": [
    "class graph:\n",
    "    def __init__(self,gdict=None):\n",
    "        if gdict is None:\n",
    "            gdict = []\n",
    "        self.gdict = gdict\n",
    "\n",
    "    def getVertices(self):\n",
    "        return list(self.gdict.keys())\n",
    "# Add the vertex as a key\n",
    "    def addVertex(self, vrtx):\n",
    "        if vrtx not in self.gdict:\n",
    "            self.gdict[vrtx] = []\n",
    "# Create the dictionary wiyh graph elements\n",
    "graph_elements = { \"a\" : [\"b\",\"c\"], \"b\" : [\"a\",\"d\"], \"c\" : [\"a\",\"d\"], \"d\" : [\"e\"], \"e\" : [\"d\"]} \n",
    "g = graph(graph_elements)\n",
    "g.addVertex(\"f\")\n",
    "print(g.getVertices())"
   ]
  },
  {
   "cell_type": "code",
   "execution_count": 18,
   "id": "a10707fb-093d-4008-8e83-39035268830f",
   "metadata": {},
   "outputs": [
    {
     "name": "stdout",
     "output_type": "stream",
     "text": [
      "['t', 'u', 'v', 'w', 'x', 'z', 's', 'q']\n"
     ]
    }
   ],
   "source": [
    "class graph:\n",
    "    def __init__(self,gdict=None):\n",
    "        if gdict is None:\n",
    "            gdict = []\n",
    "        self.gdict = gdict\n",
    "\n",
    "    def getVertices(self):\n",
    "        return list(self.gdict.keys())\n",
    "# Add the vertex as a key\n",
    "    def addVertex(self, vrtx):\n",
    "        if vrtx not in self.gdict:\n",
    "            self.gdict[vrtx] = []\n",
    "# Create the dictionary wiyh graph elements\n",
    "graph_elements =  { \"t\" : [\"u\",\"w\"], \"u\" : [\"t\",\"v\"], \"v\" : [\"u\",\"x\"], \"w\" : [\"t\", \"x\",\"z\"], \"x\" : [\"v\",\"w\",\"s\"], \"z\" : [\"w\"], \"s\" : [\"x\"]}\n",
    "g = graph(graph_elements)\n",
    "g.addVertex(\"q\")\n",
    "print(g.getVertices())"
   ]
  },
  {
   "cell_type": "code",
   "execution_count": 19,
   "id": "1ec49875-6f27-4ece-9d30-15e7b1b0d361",
   "metadata": {},
   "outputs": [
    {
     "name": "stdout",
     "output_type": "stream",
     "text": [
      "['r', 'o', 'm', 'l', 'p', 'n', 'a']\n"
     ]
    }
   ],
   "source": [
    "class graph:\n",
    "    def __init__(self,gdict=None):\n",
    "        if gdict is None:\n",
    "            gdict = []\n",
    "        self.gdict = gdict\n",
    "\n",
    "    def getVertices(self):\n",
    "        return list(self.gdict.keys())\n",
    "# Add the vertex as a key\n",
    "    def addVertex(self, vrtx):\n",
    "        if vrtx not in self.gdict:\n",
    "            self.gdict[vrtx] = []\n",
    "# Create the dictionary wiyh graph elements\n",
    "graph_elements =  { \"r\" : [\"o\",\"l\"], \"o\" : [\"r\",\"p\",\"m\"], \"m\" : [\"o\",\"n\"], \"l\" : [\"r\", \"p\"], \"p\" : [\"l\",\"o\",\"n\"], \"n\" : [\"p\",\"m\"]}\n",
    "g = graph(graph_elements)\n",
    "g.addVertex(\"a\")\n",
    "print(g.getVertices())"
   ]
  },
  {
   "cell_type": "code",
   "execution_count": 23,
   "id": "a30b9c7a-22ac-4066-b82b-d79b78b132ef",
   "metadata": {},
   "outputs": [
    {
     "name": "stdout",
     "output_type": "stream",
     "text": [
      "[{'a', 'b'}, {'a', 'c'}, {'d', 'b'}, {'c', 'd'}, {'e', 'd'}, {'e', 'a'}]\n"
     ]
    }
   ],
   "source": [
    "class graph:\n",
    "    def __init__(self,gdict=None):\n",
    "        if gdict is None:\n",
    "            gdict = {}\n",
    "        self.gdict = gdict\n",
    "    def edges(self):\n",
    "        return self.findedges()\n",
    "# Add the new edge\n",
    "    def AddEdge(self, edge):\n",
    "        edge = set(edge)\n",
    "        (vrtx1, vrtx2) = tuple(edge)\n",
    "        if vrtx1 in self.gdict:\n",
    "            self.gdict[vrtx1].append(vrtx2)\n",
    "        else:\n",
    "            self.gdict[vrtx1] = [vrtx2]\n",
    "# List the edge name\n",
    "    def findedges(self):\n",
    "        edgename = []\n",
    "        for vrtx in self.gdict:\n",
    "            for nxtvrtx in self.gdict[vrtx]:\n",
    "                if {nxtvrtx, vrtx} not in edgename:\n",
    "                    edgename.append({vrtx, nxtvrtx})\n",
    "        return edgename\n",
    "# Create the dictionary wiyh graph elements \n",
    "graph_elements =  { \"a\" : [\"b\",\"c\"], \"b\" : [\"a\",\"d\"], \"c\" : [\"a\",\"d\"], \"d\" : [\"e\"], \"e\" : [\"d\"]} \n",
    "g = graph(graph_elements)\n",
    "g.AddEdge({'a','e'})\n",
    "g.AddEdge({'a','c'})\n",
    "print(g.edges())"
   ]
  },
  {
   "cell_type": "code",
   "execution_count": 24,
   "id": "46995602-1d16-4d70-8b9f-81f5dd2ce9c0",
   "metadata": {},
   "outputs": [
    {
     "name": "stdout",
     "output_type": "stream",
     "text": [
      "[{'u', 't'}, {'t', 'w'}, {'u', 'v'}, {'v', 'x'}, {'x', 'w'}, {'z', 'w'}, {'s', 'x'}, {'e', 'a'}, {'a', 'c'}]\n"
     ]
    }
   ],
   "source": [
    "class graph:\n",
    "    def __init__(self,gdict=None):\n",
    "        if gdict is None:\n",
    "            gdict = {}\n",
    "        self.gdict = gdict\n",
    "    def edges(self):\n",
    "        return self.findedges()\n",
    "# Add the new edge\n",
    "    def AddEdge(self, edge):\n",
    "        edge = set(edge)\n",
    "        (vrtx1, vrtx2) = tuple(edge)\n",
    "        if vrtx1 in self.gdict:\n",
    "            self.gdict[vrtx1].append(vrtx2)\n",
    "        else:\n",
    "            self.gdict[vrtx1] = [vrtx2]\n",
    "# List the edge name\n",
    "    def findedges(self):\n",
    "        edgename = []\n",
    "        for vrtx in self.gdict:\n",
    "            for nxtvrtx in self.gdict[vrtx]:\n",
    "                if {nxtvrtx, vrtx} not in edgename:\n",
    "                    edgename.append({vrtx, nxtvrtx})\n",
    "        return edgename\n",
    "# Create the dictionary wiyh graph elements \n",
    "graph_elements = { \"t\" : [\"u\",\"w\"], \"u\" : [\"t\",\"v\"], \"v\" : [\"u\",\"x\"], \"w\" : [\"t\", \"x\",\"z\"], \"x\" : [\"v\",\"w\",\"s\"], \"z\" : [\"w\"], \"s\" : [\"x\"]}\n",
    "g = graph(graph_elements)\n",
    "g.AddEdge({'a','e'})\n",
    "g.AddEdge({'a','c'})\n",
    "print(g.edges())"
   ]
  },
  {
   "cell_type": "code",
   "execution_count": 25,
   "id": "e926d1be-db0a-4033-83db-f1b1e59a78f9",
   "metadata": {},
   "outputs": [
    {
     "name": "stdout",
     "output_type": "stream",
     "text": [
      "[{'r', 'o'}, {'r', 'l'}, {'o', 'p'}, {'o', 'm'}, {'m', 'n'}, {'l', 'p'}, {'n', 'p'}, {'e', 'a'}, {'a', 'c'}]\n"
     ]
    }
   ],
   "source": [
    "class graph:\n",
    "    def __init__(self,gdict=None):\n",
    "        if gdict is None:\n",
    "            gdict = {}\n",
    "        self.gdict = gdict\n",
    "    def edges(self):\n",
    "        return self.findedges()\n",
    "# Add the new edge\n",
    "    def AddEdge(self, edge):\n",
    "        edge = set(edge)\n",
    "        (vrtx1, vrtx2) = tuple(edge)\n",
    "        if vrtx1 in self.gdict:\n",
    "            self.gdict[vrtx1].append(vrtx2)\n",
    "        else:\n",
    "            self.gdict[vrtx1] = [vrtx2]\n",
    "# List the edge name\n",
    "    def findedges(self):\n",
    "        edgename = []\n",
    "        for vrtx in self.gdict:\n",
    "            for nxtvrtx in self.gdict[vrtx]:\n",
    "                if {nxtvrtx, vrtx} not in edgename:\n",
    "                    edgename.append({vrtx, nxtvrtx})\n",
    "        return edgename\n",
    "# Create the dictionary wiyh graph elements \n",
    "graph_elements = { \"r\" : [\"o\",\"l\"], \"o\" : [\"r\",\"p\",\"m\"], \"m\" : [\"o\",\"n\"], \"l\" : [\"r\", \"p\"], \"p\" : [\"l\",\"o\",\"n\"], \"n\" : [\"p\",\"m\"]}\n",
    "g = graph(graph_elements)\n",
    "g.AddEdge({'a','e'})\n",
    "g.AddEdge({'a','c'})\n",
    "print(g.edges())"
   ]
  },
  {
   "cell_type": "code",
   "execution_count": null,
   "id": "0d6b5ca9-7f29-420f-8db3-72b919116738",
   "metadata": {},
   "outputs": [],
   "source": []
  }
 ],
 "metadata": {
  "kernelspec": {
   "display_name": "Python 3 (ipykernel)",
   "language": "python",
   "name": "python3"
  },
  "language_info": {
   "codemirror_mode": {
    "name": "ipython",
    "version": 3
   },
   "file_extension": ".py",
   "mimetype": "text/x-python",
   "name": "python",
   "nbconvert_exporter": "python",
   "pygments_lexer": "ipython3",
   "version": "3.9.12"
  }
 },
 "nbformat": 4,
 "nbformat_minor": 5
}
